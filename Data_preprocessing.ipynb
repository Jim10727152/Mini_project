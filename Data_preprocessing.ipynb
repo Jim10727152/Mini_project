{
 "cells": [
  {
   "cell_type": "code",
   "execution_count": null,
   "metadata": {},
   "outputs": [],
   "source": [
    "import pandas as pd\n",
    "import re\n",
    "import  numpy as np\n",
    "from concurrent.futures import ThreadPoolExecutor\n",
    "from sklearn.feature_extraction import FeatureHasher"
   ]
  },
  {
   "cell_type": "code",
   "execution_count": null,
   "metadata": {},
   "outputs": [],
   "source": [
    "# This function is used to split the input string by ',', and ignore the ',' inside [] .\n",
    "def split_attributes(attr_str):    \n",
    "    parts = re.split(r',(?![^\\[\\]]*\\])', attr_str)\n",
    "    parts = [part.strip() for part in parts]\n",
    "    return parts\n",
    "\n",
    "# Split the content in Attributes parallelly, cause it's quite slow by doing sequentially\n",
    "def process_attributes_parallel(attr_series):\n",
    "    with ThreadPoolExecutor() as executor:\n",
    "        result = list(executor.map(split_attributes, attr_series))\n",
    "    return result\n",
    "\n",
    "\n",
    "def split_name(input_str):\n",
    "    # split the input string by '='\n",
    "    parts = input_str.split('=', 1)\n",
    "    if len(parts) > 1:\n",
    "        return parts[0]  # return the name\n",
    "    else:                # if the string doesn't have '=', return None\n",
    "        return None \n",
    "\n",
    "def split_value( input_str):\n",
    "    # split the input string by '='\n",
    "    parts = input_str.split('=', 1)\n",
    "    if len(parts) > 1:\n",
    "        return parts[1]  # return the name\n",
    "    else:                # if the string doesn't have '=', return None\n",
    "        return None    "
   ]
  },
  {
   "cell_type": "code",
   "execution_count": null,
   "metadata": {},
   "outputs": [],
   "source": [
    "# read the flowmon dataset\n",
    "df = pd.read_csv('FL-Event-Filtered.csv', sep= ';')"
   ]
  },
  {
   "cell_type": "code",
   "execution_count": null,
   "metadata": {},
   "outputs": [],
   "source": [
    "# Turn the content in 'Attributes' into  a list of string \n",
    "# It will takes quite a long time doing the below code\n",
    "df['Attributes'] = process_attributes_parallel(df['Attributes'])"
   ]
  },
  {
   "cell_type": "code",
   "execution_count": null,
   "metadata": {},
   "outputs": [],
   "source": [
    "# try to get all the element that has value, which means  at the left of  '=' is name , at the right of '=' is value\n",
    "union_of_element_name_in_attribute = set()\n",
    "for current_attributes in df['Attributes']:\n",
    "    for element in current_attributes:\n",
    "        element_name = split_name( element )\n",
    "        union_of_element_name_in_attribute.add( element_name )\n",
    "\n",
    "# if there is 'None' in the columns             \n",
    "union_of_element_name_in_attribute.remove( None )\n",
    "print( union_of_element_name_in_attribute )"
   ]
  },
  {
   "cell_type": "code",
   "execution_count": null,
   "metadata": {},
   "outputs": [],
   "source": [
    "# Generate new columns using the union \n",
    "\n",
    "newDf = pd.DataFrame()\n",
    "\n",
    "for current_element_name in union_of_element_name_in_attribute:\n",
    "    current_list = []\n",
    "    for current_attribute in df['Attributes']:\n",
    "        for current_element in current_attribute :\n",
    "            find_the_element = False\n",
    "            if current_element_name in current_element :\n",
    "                current_list.append( split_value(current_element) )\n",
    "                find_the_element = True\n",
    "                break\n",
    "        if find_the_element == False :\n",
    "            current_list.append( 0 )\n",
    "    newDf[current_element_name] = current_list\n",
    "\n",
    "newDf.head(10)\n",
    "\n",
    "\n"
   ]
  },
  {
   "cell_type": "code",
   "execution_count": null,
   "metadata": {},
   "outputs": [],
   "source": [
    "# concat the original df and attributes after splitting\n",
    "merged_df = pd.concat([df, newDf], axis=1 )\n",
    "merged_df = merged_df.drop(['Attributes'], axis=1 )\n",
    "merged_df.head()\n"
   ]
  },
  {
   "cell_type": "code",
   "execution_count": null,
   "metadata": {},
   "outputs": [],
   "source": [
    "# It's a way to solve the problem with two duplicated columns names\n",
    "merged_df.to_csv( 'temp.csv', index=False )\n",
    "merged_df = pd.read_csv( 'temp.csv' )\n"
   ]
  },
  {
   "cell_type": "code",
   "execution_count": null,
   "metadata": {},
   "outputs": [],
   "source": [
    "# label the blacklist event as label '1' , and others as '0'\n",
    "merged_df['label'] = merged_df['Type'].apply(lambda x: 1 if x == 'BLACKLIST' else 0 )\n",
    "merged_df.head()"
   ]
  },
  {
   "cell_type": "code",
   "execution_count": null,
   "metadata": {},
   "outputs": [],
   "source": [
    "# You can see how many columns right now after splitting\n",
    "num_rows, num_cols = merged_df.shape\n",
    "\n",
    "print(f\"num of rows : {num_rows}\")\n",
    "print(f\"num of cols : {num_cols}\")\n",
    "\n"
   ]
  },
  {
   "cell_type": "code",
   "execution_count": null,
   "metadata": {},
   "outputs": [],
   "source": [
    "# delete the event whose IP is in the blacklist, but type is not Blacklist\n",
    "IPs_in_blacklist = set()\n",
    "for index, row in merged_df.iterrows():\n",
    "    \n",
    "    if row['Type'] == 'BLACKLIST':\n",
    "        IPs_in_blacklist.add( row['Event source'])\n",
    "\n",
    "condition1 = merged_df['Event source'].isin(IPs_in_blacklist)\n",
    "\n",
    "condition2 = merged_df['Type'] != 'BLACKLIST'\n",
    "\n",
    "combine_condition = condition1 & condition2\n",
    "\n",
    "merged_df = merged_df[~combine_condition]"
   ]
  },
  {
   "cell_type": "code",
   "execution_count": null,
   "metadata": {},
   "outputs": [],
   "source": [
    "# drop the features, which is useless or should not be used\n",
    "merged_df = merged_df.drop(['Event source', 'Type', 'Subtype', 'Detail', 'Detection time', 'Targets', 'Blacklists', 'BlacklistNames', 'TimeStart', 'TimeEnd'  ], axis=1) \n",
    "\n"
   ]
  },
  {
   "cell_type": "code",
   "execution_count": 96,
   "metadata": {},
   "outputs": [],
   "source": [
    "# before we train we should deal with a problem, the non-numrical column\n",
    "# Find all non-numerical columns\n",
    "non_numerical_columns = merged_df.select_dtypes(exclude=[np.number]).columns\n",
    "\n",
    "# Initialize FeatureHasher\n",
    "hasher = FeatureHasher(input_type='string', n_features=10)\n",
    "\n",
    "# Apply FeatureHasher to non-numerical columns\n",
    "for column in non_numerical_columns:\n",
    "    if column in merged_df.columns:\n",
    "        # Convert each value to a list containing a single string\n",
    "        hashed_features = hasher.transform(merged_df[column].astype(str).apply(lambda x: [x])).toarray()\n",
    "        hashed_df = pd.DataFrame(hashed_features, columns=[f'{column}_hashed_{i}' for i in range(hashed_features.shape[1])])\n",
    "        \n",
    "        # Reset index to ensure alignment\n",
    "        merged_df = merged_df.reset_index(drop=True)\n",
    "        hashed_df = hashed_df.reset_index(drop=True)\n",
    "        \n",
    "        # Merge DataFrame\n",
    "        merged_df = pd.concat([merged_df, hashed_df], axis=1).drop(columns=[column])\n",
    "    else:\n",
    "        print(f\"Column {column} does not exist in DataFrame.\")\n"
   ]
  },
  {
   "cell_type": "code",
   "execution_count": 98,
   "metadata": {},
   "outputs": [],
   "source": [
    "# save the new dataframe to csv\n",
    "merged_df.to_csv( 'preprocessed_data.csv', index=False )\n",
    "\n"
   ]
  }
 ],
 "metadata": {
  "kernelspec": {
   "display_name": "python_3_9",
   "language": "python",
   "name": "python3"
  },
  "language_info": {
   "codemirror_mode": {
    "name": "ipython",
    "version": 3
   },
   "file_extension": ".py",
   "mimetype": "text/x-python",
   "name": "python",
   "nbconvert_exporter": "python",
   "pygments_lexer": "ipython3",
   "version": "3.9.18"
  }
 },
 "nbformat": 4,
 "nbformat_minor": 2
}
